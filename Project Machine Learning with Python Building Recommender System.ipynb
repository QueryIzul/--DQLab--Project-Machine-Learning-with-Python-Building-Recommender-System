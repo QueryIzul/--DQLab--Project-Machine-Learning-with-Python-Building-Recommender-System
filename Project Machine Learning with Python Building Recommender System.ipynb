{
 "cells": [
  {
   "cell_type": "code",
   "execution_count": 35,
   "id": "f8d77d8c-30b5-4596-8b8b-8a482de9bddb",
   "metadata": {},
   "outputs": [],
   "source": [
    "#import library yang dibutuhkan\n",
    "import pandas as pd\n",
    "import numpy as np\n",
    "pd.set_option('display.max_columns', None)"
   ]
  },
  {
   "cell_type": "markdown",
   "id": "d8a85f19-ccaa-4260-a574-c7bc03086109",
   "metadata": {},
   "source": [
    "### Import Library dan File Unloading"
   ]
  },
  {
   "cell_type": "code",
   "execution_count": 36,
   "id": "61ba9393-d0ed-4eba-b938-f5b27b0ee12c",
   "metadata": {},
   "outputs": [],
   "source": [
    "#lakukan pembacaan dataset\n",
    "movie_df = pd.read_csv('https://storage.googleapis.com/dqlab-dataset/title.basics.tsv', sep= '\\t') #untuk menyimpan title_basics.tsv\n",
    "rating_df = pd.read_csv('https://storage.googleapis.com/dqlab-dataset/title.ratings.tsv', sep= '\\t') #untuk menyimpan title.ratings.tsv"
   ]
  },
  {
   "cell_type": "markdown",
   "id": "f4fe66ec-e001-40f9-8ceb-c873dc9fdb5b",
   "metadata": {},
   "source": [
    "### 5 Data teratas dari table movie"
   ]
  },
  {
   "cell_type": "code",
   "execution_count": 37,
   "id": "ddb255a7-9b37-4b24-a9ee-ba0bd0f4ee7c",
   "metadata": {},
   "outputs": [
    {
     "data": {
      "text/html": [
       "<div>\n",
       "<style scoped>\n",
       "    .dataframe tbody tr th:only-of-type {\n",
       "        vertical-align: middle;\n",
       "    }\n",
       "\n",
       "    .dataframe tbody tr th {\n",
       "        vertical-align: top;\n",
       "    }\n",
       "\n",
       "    .dataframe thead th {\n",
       "        text-align: right;\n",
       "    }\n",
       "</style>\n",
       "<table border=\"1\" class=\"dataframe\">\n",
       "  <thead>\n",
       "    <tr style=\"text-align: right;\">\n",
       "      <th></th>\n",
       "      <th>tconst</th>\n",
       "      <th>titleType</th>\n",
       "      <th>primaryTitle</th>\n",
       "      <th>originalTitle</th>\n",
       "      <th>isAdult</th>\n",
       "      <th>startYear</th>\n",
       "      <th>endYear</th>\n",
       "      <th>runtimeMinutes</th>\n",
       "      <th>genres</th>\n",
       "    </tr>\n",
       "  </thead>\n",
       "  <tbody>\n",
       "    <tr>\n",
       "      <th>0</th>\n",
       "      <td>tt0221078</td>\n",
       "      <td>short</td>\n",
       "      <td>Circle Dance, Ute Indians</td>\n",
       "      <td>Circle Dance, Ute Indians</td>\n",
       "      <td>0</td>\n",
       "      <td>1898</td>\n",
       "      <td>\\N</td>\n",
       "      <td>\\N</td>\n",
       "      <td>Documentary,Short</td>\n",
       "    </tr>\n",
       "    <tr>\n",
       "      <th>1</th>\n",
       "      <td>tt8862466</td>\n",
       "      <td>tvEpisode</td>\n",
       "      <td>¡El #TeamOsos va con todo al \"Reality del amor\"!</td>\n",
       "      <td>¡El #TeamOsos va con todo al \"Reality del amor\"!</td>\n",
       "      <td>0</td>\n",
       "      <td>2018</td>\n",
       "      <td>\\N</td>\n",
       "      <td>\\N</td>\n",
       "      <td>Comedy,Drama</td>\n",
       "    </tr>\n",
       "    <tr>\n",
       "      <th>2</th>\n",
       "      <td>tt7157720</td>\n",
       "      <td>tvEpisode</td>\n",
       "      <td>Episode #3.41</td>\n",
       "      <td>Episode #3.41</td>\n",
       "      <td>0</td>\n",
       "      <td>2016</td>\n",
       "      <td>\\N</td>\n",
       "      <td>29</td>\n",
       "      <td>Comedy,Game-Show</td>\n",
       "    </tr>\n",
       "    <tr>\n",
       "      <th>3</th>\n",
       "      <td>tt2974998</td>\n",
       "      <td>tvEpisode</td>\n",
       "      <td>Episode dated 16 May 1987</td>\n",
       "      <td>Episode dated 16 May 1987</td>\n",
       "      <td>0</td>\n",
       "      <td>1987</td>\n",
       "      <td>\\N</td>\n",
       "      <td>\\N</td>\n",
       "      <td>News</td>\n",
       "    </tr>\n",
       "    <tr>\n",
       "      <th>4</th>\n",
       "      <td>tt2903620</td>\n",
       "      <td>tvEpisode</td>\n",
       "      <td>Frances Bavier: Aunt Bee Retires</td>\n",
       "      <td>Frances Bavier: Aunt Bee Retires</td>\n",
       "      <td>0</td>\n",
       "      <td>1973</td>\n",
       "      <td>\\N</td>\n",
       "      <td>\\N</td>\n",
       "      <td>Documentary</td>\n",
       "    </tr>\n",
       "  </tbody>\n",
       "</table>\n",
       "</div>"
      ],
      "text/plain": [
       "      tconst  titleType                                      primaryTitle  \\\n",
       "0  tt0221078      short                         Circle Dance, Ute Indians   \n",
       "1  tt8862466  tvEpisode  ¡El #TeamOsos va con todo al \"Reality del amor\"!   \n",
       "2  tt7157720  tvEpisode                                     Episode #3.41   \n",
       "3  tt2974998  tvEpisode                         Episode dated 16 May 1987   \n",
       "4  tt2903620  tvEpisode                  Frances Bavier: Aunt Bee Retires   \n",
       "\n",
       "                                      originalTitle  isAdult startYear  \\\n",
       "0                         Circle Dance, Ute Indians        0      1898   \n",
       "1  ¡El #TeamOsos va con todo al \"Reality del amor\"!        0      2018   \n",
       "2                                     Episode #3.41        0      2016   \n",
       "3                         Episode dated 16 May 1987        0      1987   \n",
       "4                  Frances Bavier: Aunt Bee Retires        0      1973   \n",
       "\n",
       "  endYear runtimeMinutes             genres  \n",
       "0      \\N             \\N  Documentary,Short  \n",
       "1      \\N             \\N       Comedy,Drama  \n",
       "2      \\N             29   Comedy,Game-Show  \n",
       "3      \\N             \\N               News  \n",
       "4      \\N             \\N        Documentary  "
      ]
     },
     "execution_count": 37,
     "metadata": {},
     "output_type": "execute_result"
    }
   ],
   "source": [
    "movie_df.head()"
   ]
  },
  {
   "cell_type": "markdown",
   "id": "caaf1567-5510-4a78-93e4-bda7affcc275",
   "metadata": {},
   "source": [
    "### Info Data dari Setiap Kolom"
   ]
  },
  {
   "cell_type": "code",
   "execution_count": 38,
   "id": "e12b00b4-00eb-445d-911e-9349716427a1",
   "metadata": {},
   "outputs": [
    {
     "name": "stdout",
     "output_type": "stream",
     "text": [
      "<class 'pandas.core.frame.DataFrame'>\n",
      "RangeIndex: 9025 entries, 0 to 9024\n",
      "Data columns (total 9 columns):\n",
      " #   Column          Non-Null Count  Dtype \n",
      "---  ------          --------------  ----- \n",
      " 0   tconst          9025 non-null   object\n",
      " 1   titleType       9025 non-null   object\n",
      " 2   primaryTitle    9011 non-null   object\n",
      " 3   originalTitle   9011 non-null   object\n",
      " 4   isAdult         9025 non-null   int64 \n",
      " 5   startYear       9025 non-null   object\n",
      " 6   endYear         9025 non-null   object\n",
      " 7   runtimeMinutes  9025 non-null   object\n",
      " 8   genres          9014 non-null   object\n",
      "dtypes: int64(1), object(8)\n",
      "memory usage: 634.7+ KB\n"
     ]
    }
   ],
   "source": [
    "movie_df.info()"
   ]
  },
  {
   "cell_type": "markdown",
   "id": "9dddfac2-403d-4844-8a15-5aa504d5b1ef",
   "metadata": {},
   "source": [
    "### Pengecekan Data dengan Nilai NULL"
   ]
  },
  {
   "cell_type": "code",
   "execution_count": 39,
   "id": "dd4fb04b-a8e5-4ac1-84bf-32c06ca2a234",
   "metadata": {},
   "outputs": [
    {
     "data": {
      "text/plain": [
       "tconst             0\n",
       "titleType          0\n",
       "primaryTitle      14\n",
       "originalTitle     14\n",
       "isAdult            0\n",
       "startYear          0\n",
       "endYear            0\n",
       "runtimeMinutes     0\n",
       "genres            11\n",
       "dtype: int64"
      ]
     },
     "execution_count": 39,
     "metadata": {},
     "output_type": "execute_result"
    }
   ],
   "source": [
    "movie_df.isnull().sum()"
   ]
  },
  {
   "cell_type": "markdown",
   "id": "2757c347-1834-4d9d-8900-112cdd6cd2d7",
   "metadata": {},
   "source": [
    "### Analisis Kolom dengan data bernilai NULL - part 1"
   ]
  },
  {
   "cell_type": "code",
   "execution_count": 41,
   "id": "b4add637-3aaa-450b-b424-0d86663f8ac9",
   "metadata": {},
   "outputs": [
    {
     "data": {
      "text/html": [
       "<div>\n",
       "<style scoped>\n",
       "    .dataframe tbody tr th:only-of-type {\n",
       "        vertical-align: middle;\n",
       "    }\n",
       "\n",
       "    .dataframe tbody tr th {\n",
       "        vertical-align: top;\n",
       "    }\n",
       "\n",
       "    .dataframe thead th {\n",
       "        text-align: right;\n",
       "    }\n",
       "</style>\n",
       "<table border=\"1\" class=\"dataframe\">\n",
       "  <thead>\n",
       "    <tr style=\"text-align: right;\">\n",
       "      <th></th>\n",
       "      <th>tconst</th>\n",
       "      <th>titleType</th>\n",
       "      <th>primaryTitle</th>\n",
       "      <th>originalTitle</th>\n",
       "      <th>isAdult</th>\n",
       "      <th>startYear</th>\n",
       "      <th>endYear</th>\n",
       "      <th>runtimeMinutes</th>\n",
       "      <th>genres</th>\n",
       "    </tr>\n",
       "  </thead>\n",
       "  <tbody>\n",
       "    <tr>\n",
       "      <th>9000</th>\n",
       "      <td>tt10790040</td>\n",
       "      <td>tvEpisode</td>\n",
       "      <td>NaN</td>\n",
       "      <td>NaN</td>\n",
       "      <td>0</td>\n",
       "      <td>2019</td>\n",
       "      <td>\\N</td>\n",
       "      <td>\\N</td>\n",
       "      <td>\\N</td>\n",
       "    </tr>\n",
       "    <tr>\n",
       "      <th>9001</th>\n",
       "      <td>tt10891902</td>\n",
       "      <td>tvEpisode</td>\n",
       "      <td>NaN</td>\n",
       "      <td>NaN</td>\n",
       "      <td>0</td>\n",
       "      <td>2020</td>\n",
       "      <td>\\N</td>\n",
       "      <td>\\N</td>\n",
       "      <td>Crime</td>\n",
       "    </tr>\n",
       "    <tr>\n",
       "      <th>9002</th>\n",
       "      <td>tt11737860</td>\n",
       "      <td>tvEpisode</td>\n",
       "      <td>NaN</td>\n",
       "      <td>NaN</td>\n",
       "      <td>0</td>\n",
       "      <td>2020</td>\n",
       "      <td>\\N</td>\n",
       "      <td>\\N</td>\n",
       "      <td>Comedy,Drama,Romance</td>\n",
       "    </tr>\n",
       "    <tr>\n",
       "      <th>9003</th>\n",
       "      <td>tt11737862</td>\n",
       "      <td>tvEpisode</td>\n",
       "      <td>NaN</td>\n",
       "      <td>NaN</td>\n",
       "      <td>0</td>\n",
       "      <td>2020</td>\n",
       "      <td>\\N</td>\n",
       "      <td>\\N</td>\n",
       "      <td>Comedy,Drama,Romance</td>\n",
       "    </tr>\n",
       "    <tr>\n",
       "      <th>9004</th>\n",
       "      <td>tt11737866</td>\n",
       "      <td>tvEpisode</td>\n",
       "      <td>NaN</td>\n",
       "      <td>NaN</td>\n",
       "      <td>0</td>\n",
       "      <td>2020</td>\n",
       "      <td>\\N</td>\n",
       "      <td>\\N</td>\n",
       "      <td>Comedy,Drama,Romance</td>\n",
       "    </tr>\n",
       "  </tbody>\n",
       "</table>\n",
       "</div>"
      ],
      "text/plain": [
       "          tconst  titleType primaryTitle originalTitle  isAdult startYear  \\\n",
       "9000  tt10790040  tvEpisode          NaN           NaN        0      2019   \n",
       "9001  tt10891902  tvEpisode          NaN           NaN        0      2020   \n",
       "9002  tt11737860  tvEpisode          NaN           NaN        0      2020   \n",
       "9003  tt11737862  tvEpisode          NaN           NaN        0      2020   \n",
       "9004  tt11737866  tvEpisode          NaN           NaN        0      2020   \n",
       "\n",
       "     endYear runtimeMinutes                genres  \n",
       "9000      \\N             \\N                    \\N  \n",
       "9001      \\N             \\N                 Crime  \n",
       "9002      \\N             \\N  Comedy,Drama,Romance  \n",
       "9003      \\N             \\N  Comedy,Drama,Romance  \n",
       "9004      \\N             \\N  Comedy,Drama,Romance  "
      ]
     },
     "execution_count": 41,
     "metadata": {},
     "output_type": "execute_result"
    }
   ],
   "source": [
    "movie_df.loc[(movie_df['primaryTitle'].isnull()) | (movie_df['originalTitle'].isnull())].head()"
   ]
  },
  {
   "cell_type": "markdown",
   "id": "61695116-8a96-4457-b8cf-a87bd08e0e73",
   "metadata": {},
   "source": [
    "### Membuang Data dengan Nilai NULL - part 1"
   ]
  },
  {
   "cell_type": "code",
   "execution_count": 42,
   "id": "8819cefe-1d0e-4256-b039-b7748a4fee8c",
   "metadata": {},
   "outputs": [
    {
     "data": {
      "text/plain": [
       "9011"
      ]
     },
     "execution_count": 42,
     "metadata": {},
     "output_type": "execute_result"
    }
   ],
   "source": [
    "#mengupdate movie_df dengan membuang data-data bernilai NULL\n",
    "movie_df = movie_df.loc[(movie_df['primaryTitle'].notnull()) | (movie_df['originalTitle'].notnull())]\n",
    "len(movie_df)"
   ]
  },
  {
   "cell_type": "markdown",
   "id": "8e22f632-7913-41e2-b20f-8524db5e15df",
   "metadata": {},
   "source": [
    "### Analisis Kolom dengan data bernilai NULL - part 2"
   ]
  },
  {
   "cell_type": "code",
   "execution_count": 43,
   "id": "15205b45-0818-416b-9aa1-e76438b1c79b",
   "metadata": {},
   "outputs": [
    {
     "data": {
      "text/html": [
       "<div>\n",
       "<style scoped>\n",
       "    .dataframe tbody tr th:only-of-type {\n",
       "        vertical-align: middle;\n",
       "    }\n",
       "\n",
       "    .dataframe tbody tr th {\n",
       "        vertical-align: top;\n",
       "    }\n",
       "\n",
       "    .dataframe thead th {\n",
       "        text-align: right;\n",
       "    }\n",
       "</style>\n",
       "<table border=\"1\" class=\"dataframe\">\n",
       "  <thead>\n",
       "    <tr style=\"text-align: right;\">\n",
       "      <th></th>\n",
       "      <th>tconst</th>\n",
       "      <th>titleType</th>\n",
       "      <th>primaryTitle</th>\n",
       "      <th>originalTitle</th>\n",
       "      <th>isAdult</th>\n",
       "      <th>startYear</th>\n",
       "      <th>endYear</th>\n",
       "      <th>runtimeMinutes</th>\n",
       "      <th>genres</th>\n",
       "    </tr>\n",
       "  </thead>\n",
       "  <tbody>\n",
       "    <tr>\n",
       "      <th>9014</th>\n",
       "      <td>tt10233364</td>\n",
       "      <td>tvEpisode</td>\n",
       "      <td>Rolling in the Deep Dish\\tRolling in the Deep ...</td>\n",
       "      <td>0</td>\n",
       "      <td>2019</td>\n",
       "      <td>\\N</td>\n",
       "      <td>\\N</td>\n",
       "      <td>Reality-TV</td>\n",
       "      <td>NaN</td>\n",
       "    </tr>\n",
       "    <tr>\n",
       "      <th>9015</th>\n",
       "      <td>tt10925142</td>\n",
       "      <td>tvEpisode</td>\n",
       "      <td>The IMDb Show on Location: Star Wars Galaxy's ...</td>\n",
       "      <td>0</td>\n",
       "      <td>2019</td>\n",
       "      <td>\\N</td>\n",
       "      <td>\\N</td>\n",
       "      <td>Talk-Show</td>\n",
       "      <td>NaN</td>\n",
       "    </tr>\n",
       "    <tr>\n",
       "      <th>9016</th>\n",
       "      <td>tt10970874</td>\n",
       "      <td>tvEpisode</td>\n",
       "      <td>Die Bauhaus-Stadt Tel Aviv - Vorbild für die M...</td>\n",
       "      <td>0</td>\n",
       "      <td>2019</td>\n",
       "      <td>\\N</td>\n",
       "      <td>\\N</td>\n",
       "      <td>\\N</td>\n",
       "      <td>NaN</td>\n",
       "    </tr>\n",
       "    <tr>\n",
       "      <th>9017</th>\n",
       "      <td>tt11670006</td>\n",
       "      <td>tvEpisode</td>\n",
       "      <td>...ein angenehmer Unbequemer...\\t...ein angene...</td>\n",
       "      <td>0</td>\n",
       "      <td>1981</td>\n",
       "      <td>\\N</td>\n",
       "      <td>\\N</td>\n",
       "      <td>Documentary</td>\n",
       "      <td>NaN</td>\n",
       "    </tr>\n",
       "    <tr>\n",
       "      <th>9018</th>\n",
       "      <td>tt11868642</td>\n",
       "      <td>tvEpisode</td>\n",
       "      <td>GGN Heavyweight Championship Lungs With Mike T...</td>\n",
       "      <td>0</td>\n",
       "      <td>2020</td>\n",
       "      <td>\\N</td>\n",
       "      <td>\\N</td>\n",
       "      <td>Talk-Show</td>\n",
       "      <td>NaN</td>\n",
       "    </tr>\n",
       "  </tbody>\n",
       "</table>\n",
       "</div>"
      ],
      "text/plain": [
       "          tconst  titleType  \\\n",
       "9014  tt10233364  tvEpisode   \n",
       "9015  tt10925142  tvEpisode   \n",
       "9016  tt10970874  tvEpisode   \n",
       "9017  tt11670006  tvEpisode   \n",
       "9018  tt11868642  tvEpisode   \n",
       "\n",
       "                                           primaryTitle originalTitle  \\\n",
       "9014  Rolling in the Deep Dish\\tRolling in the Deep ...             0   \n",
       "9015  The IMDb Show on Location: Star Wars Galaxy's ...             0   \n",
       "9016  Die Bauhaus-Stadt Tel Aviv - Vorbild für die M...             0   \n",
       "9017  ...ein angenehmer Unbequemer...\\t...ein angene...             0   \n",
       "9018  GGN Heavyweight Championship Lungs With Mike T...             0   \n",
       "\n",
       "      isAdult startYear endYear runtimeMinutes genres  \n",
       "9014     2019        \\N      \\N     Reality-TV    NaN  \n",
       "9015     2019        \\N      \\N      Talk-Show    NaN  \n",
       "9016     2019        \\N      \\N             \\N    NaN  \n",
       "9017     1981        \\N      \\N    Documentary    NaN  \n",
       "9018     2020        \\N      \\N      Talk-Show    NaN  "
      ]
     },
     "execution_count": 43,
     "metadata": {},
     "output_type": "execute_result"
    }
   ],
   "source": [
    "movie_df.loc[movie_df['genres'].isnull()].head()"
   ]
  },
  {
   "cell_type": "markdown",
   "id": "0ea36329-5588-4c6b-bc6e-c5858cf0beec",
   "metadata": {},
   "source": [
    "### Membuang Data dengan Nilai NULL - part 2"
   ]
  },
  {
   "cell_type": "code",
   "execution_count": 44,
   "id": "27743136-843b-49c7-9449-2a63c016647a",
   "metadata": {},
   "outputs": [
    {
     "data": {
      "text/plain": [
       "9000"
      ]
     },
     "execution_count": 44,
     "metadata": {},
     "output_type": "execute_result"
    }
   ],
   "source": [
    "#mengupdate movie_df dengan membuang data-data bernilai NULL\n",
    "movie_df = movie_df.loc[movie_df['genres'].notnull()]\n",
    "len(movie_df)"
   ]
  },
  {
   "cell_type": "markdown",
   "id": "dbb61f8e-12de-4575-9825-fde27dc1d5a5",
   "metadata": {},
   "source": [
    "### Mengubah Nilai '\\N'"
   ]
  },
  {
   "cell_type": "code",
   "execution_count": 45,
   "id": "6dc9b6e4-83e3-459f-bf16-0099d7790194",
   "metadata": {},
   "outputs": [
    {
     "data": {
      "text/plain": [
       "array([1898., 2018., 2016., 1987., 1973.])"
      ]
     },
     "execution_count": 45,
     "metadata": {},
     "output_type": "execute_result"
    }
   ],
   "source": [
    "#mengubah nilai '\\\\N' pada startYear menjadi np.nan dan cast kolomnya menjadi float64\n",
    "movie_df['startYear'] = movie_df['startYear'].replace('\\\\N', np.nan)\n",
    "movie_df['startYear'] = movie_df['startYear'].astype('float64')\n",
    "movie_df['startYear'].unique()[:5]"
   ]
  },
  {
   "cell_type": "code",
   "execution_count": 46,
   "id": "4dfe0501-a6a7-4d93-b98c-5095d12eaa21",
   "metadata": {},
   "outputs": [
    {
     "data": {
      "text/plain": [
       "array([  nan, 2005., 1955., 2006., 1999.])"
      ]
     },
     "execution_count": 46,
     "metadata": {},
     "output_type": "execute_result"
    }
   ],
   "source": [
    "#mengubah nilai '\\\\N' pada endYear menjadi np.nan dan cast kolomnya menjadi float64\n",
    "movie_df['endYear'] = movie_df['endYear'].replace('\\\\N', np.nan)\n",
    "movie_df['endYear'] = movie_df['endYear'].astype('float64')\n",
    "movie_df['endYear'].unique()[:5]"
   ]
  },
  {
   "cell_type": "code",
   "execution_count": 47,
   "id": "659cf88f-fd5e-43e7-843e-87bb6e04843e",
   "metadata": {},
   "outputs": [
    {
     "data": {
      "text/plain": [
       "array([nan, 29.,  7., 23., 85.])"
      ]
     },
     "execution_count": 47,
     "metadata": {},
     "output_type": "execute_result"
    }
   ],
   "source": [
    "#mengubah nilai '\\\\N' pada runtimeMinutes menjadi np.nan dan cast kolomnya menjadi float64\n",
    "movie_df['runtimeMinutes'] = movie_df['runtimeMinutes'].replace('\\\\N', np.nan)\n",
    "movie_df['runtimeMinutes'] = movie_df['runtimeMinutes'].astype('float64')\n",
    "movie_df['runtimeMinutes'].unique()[:5]"
   ]
  },
  {
   "cell_type": "markdown",
   "id": "541429df-e516-4448-b7ab-95e1345a1a19",
   "metadata": {},
   "source": [
    "### Mengubah nilai genres menjadi list"
   ]
  },
  {
   "cell_type": "code",
   "execution_count": 48,
   "id": "3a737d52-5cbd-4389-99b8-bcfe6362fdde",
   "metadata": {},
   "outputs": [],
   "source": [
    "def transform_to_list(x):\n",
    "    if ',' in x: \n",
    "    #ubah menjadi list apabila ada data pada kolom genre\n",
    "        return x.split(',')\n",
    "    else: \n",
    "    #jika tidak ada data, ubah menjadi list kosong\n",
    "        return []\n",
    "\n",
    "movie_df['genres'] = movie_df['genres'].apply(lambda x: transform_to_list(x))"
   ]
  },
  {
   "cell_type": "markdown",
   "id": "803d5900-cce4-41b6-92b3-de25d2d765f4",
   "metadata": {},
   "source": [
    "### Menampilkan 5 data teratas"
   ]
  },
  {
   "cell_type": "code",
   "execution_count": 49,
   "id": "a0b73e40-083c-442e-b171-5293bfb2f655",
   "metadata": {},
   "outputs": [
    {
     "data": {
      "text/html": [
       "<div>\n",
       "<style scoped>\n",
       "    .dataframe tbody tr th:only-of-type {\n",
       "        vertical-align: middle;\n",
       "    }\n",
       "\n",
       "    .dataframe tbody tr th {\n",
       "        vertical-align: top;\n",
       "    }\n",
       "\n",
       "    .dataframe thead th {\n",
       "        text-align: right;\n",
       "    }\n",
       "</style>\n",
       "<table border=\"1\" class=\"dataframe\">\n",
       "  <thead>\n",
       "    <tr style=\"text-align: right;\">\n",
       "      <th></th>\n",
       "      <th>tconst</th>\n",
       "      <th>averageRating</th>\n",
       "      <th>numVotes</th>\n",
       "    </tr>\n",
       "  </thead>\n",
       "  <tbody>\n",
       "    <tr>\n",
       "      <th>0</th>\n",
       "      <td>tt0000001</td>\n",
       "      <td>5.6</td>\n",
       "      <td>1608</td>\n",
       "    </tr>\n",
       "    <tr>\n",
       "      <th>1</th>\n",
       "      <td>tt0000002</td>\n",
       "      <td>6.0</td>\n",
       "      <td>197</td>\n",
       "    </tr>\n",
       "    <tr>\n",
       "      <th>2</th>\n",
       "      <td>tt0000003</td>\n",
       "      <td>6.5</td>\n",
       "      <td>1285</td>\n",
       "    </tr>\n",
       "    <tr>\n",
       "      <th>3</th>\n",
       "      <td>tt0000004</td>\n",
       "      <td>6.1</td>\n",
       "      <td>121</td>\n",
       "    </tr>\n",
       "    <tr>\n",
       "      <th>4</th>\n",
       "      <td>tt0000005</td>\n",
       "      <td>6.1</td>\n",
       "      <td>2050</td>\n",
       "    </tr>\n",
       "  </tbody>\n",
       "</table>\n",
       "</div>"
      ],
      "text/plain": [
       "      tconst  averageRating  numVotes\n",
       "0  tt0000001            5.6      1608\n",
       "1  tt0000002            6.0       197\n",
       "2  tt0000003            6.5      1285\n",
       "3  tt0000004            6.1       121\n",
       "4  tt0000005            6.1      2050"
      ]
     },
     "execution_count": 49,
     "metadata": {},
     "output_type": "execute_result"
    }
   ],
   "source": [
    "rating_df.head()"
   ]
  },
  {
   "cell_type": "markdown",
   "id": "676e9cc8-ec6f-475c-8228-e68ba34d8fe9",
   "metadata": {},
   "source": [
    "### Menampilkan info data"
   ]
  },
  {
   "cell_type": "code",
   "execution_count": 50,
   "id": "1efd8af3-4d44-4a45-bc9f-5138c5e9e5cc",
   "metadata": {},
   "outputs": [
    {
     "name": "stdout",
     "output_type": "stream",
     "text": [
      "<class 'pandas.core.frame.DataFrame'>\n",
      "RangeIndex: 1030009 entries, 0 to 1030008\n",
      "Data columns (total 3 columns):\n",
      " #   Column         Non-Null Count    Dtype  \n",
      "---  ------         --------------    -----  \n",
      " 0   tconst         1030009 non-null  object \n",
      " 1   averageRating  1030009 non-null  float64\n",
      " 2   numVotes       1030009 non-null  int64  \n",
      "dtypes: float64(1), int64(1), object(1)\n",
      "memory usage: 23.6+ MB\n"
     ]
    }
   ],
   "source": [
    "rating_df.info()"
   ]
  },
  {
   "cell_type": "markdown",
   "id": "850a3ca8-d41f-4853-8b64-43c951739e38",
   "metadata": {},
   "source": [
    "### Inner Join table movie dan table rating"
   ]
  },
  {
   "cell_type": "code",
   "execution_count": 51,
   "id": "dfef534c-ac77-4b1f-987c-399780f9b57c",
   "metadata": {},
   "outputs": [],
   "source": [
    "#Lakukan join pada kedua table\n",
    "movie_rating_df = pd.merge(movie_df, rating_df, on='tconst', how='inner')"
   ]
  },
  {
   "cell_type": "code",
   "execution_count": 52,
   "id": "cb406977-2186-420d-8e2c-38d26c68b0e2",
   "metadata": {},
   "outputs": [
    {
     "data": {
      "text/html": [
       "<div>\n",
       "<style scoped>\n",
       "    .dataframe tbody tr th:only-of-type {\n",
       "        vertical-align: middle;\n",
       "    }\n",
       "\n",
       "    .dataframe tbody tr th {\n",
       "        vertical-align: top;\n",
       "    }\n",
       "\n",
       "    .dataframe thead th {\n",
       "        text-align: right;\n",
       "    }\n",
       "</style>\n",
       "<table border=\"1\" class=\"dataframe\">\n",
       "  <thead>\n",
       "    <tr style=\"text-align: right;\">\n",
       "      <th></th>\n",
       "      <th>tconst</th>\n",
       "      <th>titleType</th>\n",
       "      <th>primaryTitle</th>\n",
       "      <th>originalTitle</th>\n",
       "      <th>isAdult</th>\n",
       "      <th>startYear</th>\n",
       "      <th>endYear</th>\n",
       "      <th>runtimeMinutes</th>\n",
       "      <th>genres</th>\n",
       "      <th>averageRating</th>\n",
       "      <th>numVotes</th>\n",
       "    </tr>\n",
       "  </thead>\n",
       "  <tbody>\n",
       "    <tr>\n",
       "      <th>0</th>\n",
       "      <td>tt0043745</td>\n",
       "      <td>short</td>\n",
       "      <td>Lion Down</td>\n",
       "      <td>Lion Down</td>\n",
       "      <td>0</td>\n",
       "      <td>1951.0</td>\n",
       "      <td>NaN</td>\n",
       "      <td>7.0</td>\n",
       "      <td>[Animation, Comedy, Family]</td>\n",
       "      <td>7.1</td>\n",
       "      <td>459</td>\n",
       "    </tr>\n",
       "    <tr>\n",
       "      <th>1</th>\n",
       "      <td>tt0167491</td>\n",
       "      <td>video</td>\n",
       "      <td>Wicked Covergirls</td>\n",
       "      <td>Wicked Covergirls</td>\n",
       "      <td>1</td>\n",
       "      <td>1998.0</td>\n",
       "      <td>NaN</td>\n",
       "      <td>85.0</td>\n",
       "      <td>[]</td>\n",
       "      <td>5.7</td>\n",
       "      <td>7</td>\n",
       "    </tr>\n",
       "    <tr>\n",
       "      <th>2</th>\n",
       "      <td>tt6574096</td>\n",
       "      <td>tvEpisode</td>\n",
       "      <td>Shadow Play - Part 2</td>\n",
       "      <td>Shadow Play - Part 2</td>\n",
       "      <td>0</td>\n",
       "      <td>2017.0</td>\n",
       "      <td>NaN</td>\n",
       "      <td>22.0</td>\n",
       "      <td>[Adventure, Animation, Comedy]</td>\n",
       "      <td>8.5</td>\n",
       "      <td>240</td>\n",
       "    </tr>\n",
       "    <tr>\n",
       "      <th>3</th>\n",
       "      <td>tt6941700</td>\n",
       "      <td>tvEpisode</td>\n",
       "      <td>RuPaul Roast</td>\n",
       "      <td>RuPaul Roast</td>\n",
       "      <td>0</td>\n",
       "      <td>2017.0</td>\n",
       "      <td>NaN</td>\n",
       "      <td>NaN</td>\n",
       "      <td>[]</td>\n",
       "      <td>8.0</td>\n",
       "      <td>11</td>\n",
       "    </tr>\n",
       "    <tr>\n",
       "      <th>4</th>\n",
       "      <td>tt7305674</td>\n",
       "      <td>video</td>\n",
       "      <td>UCLA Track &amp; Field Promo</td>\n",
       "      <td>UCLA Track &amp; Field Promo</td>\n",
       "      <td>0</td>\n",
       "      <td>2017.0</td>\n",
       "      <td>NaN</td>\n",
       "      <td>NaN</td>\n",
       "      <td>[Short, Sport]</td>\n",
       "      <td>9.7</td>\n",
       "      <td>7</td>\n",
       "    </tr>\n",
       "  </tbody>\n",
       "</table>\n",
       "</div>"
      ],
      "text/plain": [
       "      tconst  titleType              primaryTitle             originalTitle  \\\n",
       "0  tt0043745      short                 Lion Down                 Lion Down   \n",
       "1  tt0167491      video         Wicked Covergirls         Wicked Covergirls   \n",
       "2  tt6574096  tvEpisode      Shadow Play - Part 2      Shadow Play - Part 2   \n",
       "3  tt6941700  tvEpisode              RuPaul Roast              RuPaul Roast   \n",
       "4  tt7305674      video  UCLA Track & Field Promo  UCLA Track & Field Promo   \n",
       "\n",
       "   isAdult  startYear  endYear  runtimeMinutes  \\\n",
       "0        0     1951.0      NaN             7.0   \n",
       "1        1     1998.0      NaN            85.0   \n",
       "2        0     2017.0      NaN            22.0   \n",
       "3        0     2017.0      NaN             NaN   \n",
       "4        0     2017.0      NaN             NaN   \n",
       "\n",
       "                           genres  averageRating  numVotes  \n",
       "0     [Animation, Comedy, Family]            7.1       459  \n",
       "1                              []            5.7         7  \n",
       "2  [Adventure, Animation, Comedy]            8.5       240  \n",
       "3                              []            8.0        11  \n",
       "4                  [Short, Sport]            9.7         7  "
      ]
     },
     "execution_count": 52,
     "metadata": {},
     "output_type": "execute_result"
    }
   ],
   "source": [
    "#Tampilkan 5 data teratas\n",
    "movie_rating_df.head()"
   ]
  },
  {
   "cell_type": "code",
   "execution_count": 53,
   "id": "27f8d878-34f7-48ab-89b7-cee95d6125d4",
   "metadata": {},
   "outputs": [
    {
     "name": "stdout",
     "output_type": "stream",
     "text": [
      "<class 'pandas.core.frame.DataFrame'>\n",
      "Int64Index: 1376 entries, 0 to 1375\n",
      "Data columns (total 11 columns):\n",
      " #   Column          Non-Null Count  Dtype  \n",
      "---  ------          --------------  -----  \n",
      " 0   tconst          1376 non-null   object \n",
      " 1   titleType       1376 non-null   object \n",
      " 2   primaryTitle    1376 non-null   object \n",
      " 3   originalTitle   1376 non-null   object \n",
      " 4   isAdult         1376 non-null   int64  \n",
      " 5   startYear       1376 non-null   float64\n",
      " 6   endYear         26 non-null     float64\n",
      " 7   runtimeMinutes  1004 non-null   float64\n",
      " 8   genres          1376 non-null   object \n",
      " 9   averageRating   1376 non-null   float64\n",
      " 10  numVotes        1376 non-null   int64  \n",
      "dtypes: float64(4), int64(2), object(5)\n",
      "memory usage: 129.0+ KB\n"
     ]
    }
   ],
   "source": [
    "#Tampilkan tipe data dari tiap kolom\n",
    "movie_rating_df.info()"
   ]
  },
  {
   "cell_type": "code",
   "execution_count": 54,
   "id": "ca7e9828-843c-40b3-961f-376c3d59b1b3",
   "metadata": {},
   "outputs": [],
   "source": [
    "movie_rating_df = movie_rating_df.dropna(subset=['startYear','runtimeMinutes'])"
   ]
  },
  {
   "cell_type": "markdown",
   "id": "2afbddae-2c25-4a03-90cc-0d28cb3d5692",
   "metadata": {},
   "source": [
    "### Pertanyaan 1: Berapa nilai C?"
   ]
  },
  {
   "cell_type": "code",
   "execution_count": 55,
   "id": "2a3f1461-3801-43c2-8ef3-4d7f29645320",
   "metadata": {},
   "outputs": [
    {
     "data": {
      "text/plain": [
       "6.829581673306767"
      ]
     },
     "execution_count": 55,
     "metadata": {},
     "output_type": "execute_result"
    }
   ],
   "source": [
    "C = movie_rating_df['averageRating'].mean()\n",
    "C"
   ]
  },
  {
   "cell_type": "markdown",
   "id": "68f93d66-dcd7-4b7b-9125-15e88e09d83e",
   "metadata": {},
   "source": [
    "### Pertanyaan 2: Berapa nilai m?"
   ]
  },
  {
   "cell_type": "code",
   "execution_count": 56,
   "id": "54055ef3-2adc-49a4-8d54-b230e98bca45",
   "metadata": {},
   "outputs": [
    {
     "data": {
      "text/plain": [
       "229.0"
      ]
     },
     "execution_count": 56,
     "metadata": {},
     "output_type": "execute_result"
    }
   ],
   "source": [
    "m = movie_rating_df['numVotes'].quantile(0.8)\n",
    "m"
   ]
  },
  {
   "cell_type": "markdown",
   "id": "db486f0f-09ff-46ad-bb44-31d350a63437",
   "metadata": {},
   "source": [
    "### Pertanyaan 3: Bagaimana cara membuat fungsi weighted formula?"
   ]
  },
  {
   "cell_type": "code",
   "execution_count": 57,
   "id": "6329cc2f-2413-4693-b491-7c8391132bd9",
   "metadata": {},
   "outputs": [
    {
     "data": {
      "text/plain": [
       "0       7.009992\n",
       "1       6.796077\n",
       "2       7.684380\n",
       "5       6.921384\n",
       "6       6.869089\n",
       "          ...   \n",
       "1369    6.867943\n",
       "1371    6.590335\n",
       "1372    6.892455\n",
       "1373    6.820403\n",
       "1374    6.924997\n",
       "Name: score, Length: 1004, dtype: float64"
      ]
     },
     "execution_count": 57,
     "metadata": {},
     "output_type": "execute_result"
    }
   ],
   "source": [
    "def imdb_weighted_rating(df, var=0.8):\n",
    "    v = df['numVotes']\n",
    "    R = df['averageRating']\n",
    "    C = df['averageRating'].mean()\n",
    "    m = df['numVotes'].quantile(var)\n",
    "    df['score'] = (v/(m+v))*R + (m/(m+v))*C #Rumus IMDb \n",
    "    return df['score']\n",
    "    \n",
    "imdb_weighted_rating(movie_rating_df)"
   ]
  },
  {
   "cell_type": "code",
   "execution_count": 58,
   "id": "7b08cf0a-ca9b-449c-a585-161927cbccdd",
   "metadata": {},
   "outputs": [
    {
     "data": {
      "text/html": [
       "<div>\n",
       "<style scoped>\n",
       "    .dataframe tbody tr th:only-of-type {\n",
       "        vertical-align: middle;\n",
       "    }\n",
       "\n",
       "    .dataframe tbody tr th {\n",
       "        vertical-align: top;\n",
       "    }\n",
       "\n",
       "    .dataframe thead th {\n",
       "        text-align: right;\n",
       "    }\n",
       "</style>\n",
       "<table border=\"1\" class=\"dataframe\">\n",
       "  <thead>\n",
       "    <tr style=\"text-align: right;\">\n",
       "      <th></th>\n",
       "      <th>tconst</th>\n",
       "      <th>titleType</th>\n",
       "      <th>primaryTitle</th>\n",
       "      <th>originalTitle</th>\n",
       "      <th>isAdult</th>\n",
       "      <th>startYear</th>\n",
       "      <th>endYear</th>\n",
       "      <th>runtimeMinutes</th>\n",
       "      <th>genres</th>\n",
       "      <th>averageRating</th>\n",
       "      <th>numVotes</th>\n",
       "      <th>score</th>\n",
       "    </tr>\n",
       "  </thead>\n",
       "  <tbody>\n",
       "    <tr>\n",
       "      <th>0</th>\n",
       "      <td>tt0043745</td>\n",
       "      <td>short</td>\n",
       "      <td>Lion Down</td>\n",
       "      <td>Lion Down</td>\n",
       "      <td>0</td>\n",
       "      <td>1951.0</td>\n",
       "      <td>NaN</td>\n",
       "      <td>7.0</td>\n",
       "      <td>[Animation, Comedy, Family]</td>\n",
       "      <td>7.1</td>\n",
       "      <td>459</td>\n",
       "      <td>7.009992</td>\n",
       "    </tr>\n",
       "    <tr>\n",
       "      <th>1</th>\n",
       "      <td>tt0167491</td>\n",
       "      <td>video</td>\n",
       "      <td>Wicked Covergirls</td>\n",
       "      <td>Wicked Covergirls</td>\n",
       "      <td>1</td>\n",
       "      <td>1998.0</td>\n",
       "      <td>NaN</td>\n",
       "      <td>85.0</td>\n",
       "      <td>[]</td>\n",
       "      <td>5.7</td>\n",
       "      <td>7</td>\n",
       "      <td>6.796077</td>\n",
       "    </tr>\n",
       "    <tr>\n",
       "      <th>2</th>\n",
       "      <td>tt6574096</td>\n",
       "      <td>tvEpisode</td>\n",
       "      <td>Shadow Play - Part 2</td>\n",
       "      <td>Shadow Play - Part 2</td>\n",
       "      <td>0</td>\n",
       "      <td>2017.0</td>\n",
       "      <td>NaN</td>\n",
       "      <td>22.0</td>\n",
       "      <td>[Adventure, Animation, Comedy]</td>\n",
       "      <td>8.5</td>\n",
       "      <td>240</td>\n",
       "      <td>7.684380</td>\n",
       "    </tr>\n",
       "    <tr>\n",
       "      <th>5</th>\n",
       "      <td>tt2262289</td>\n",
       "      <td>movie</td>\n",
       "      <td>The Pin</td>\n",
       "      <td>The Pin</td>\n",
       "      <td>0</td>\n",
       "      <td>2013.0</td>\n",
       "      <td>NaN</td>\n",
       "      <td>85.0</td>\n",
       "      <td>[]</td>\n",
       "      <td>7.7</td>\n",
       "      <td>27</td>\n",
       "      <td>6.921384</td>\n",
       "    </tr>\n",
       "    <tr>\n",
       "      <th>6</th>\n",
       "      <td>tt0874027</td>\n",
       "      <td>tvEpisode</td>\n",
       "      <td>Episode #32.9</td>\n",
       "      <td>Episode #32.9</td>\n",
       "      <td>0</td>\n",
       "      <td>2006.0</td>\n",
       "      <td>NaN</td>\n",
       "      <td>29.0</td>\n",
       "      <td>[Comedy, Game-Show, News]</td>\n",
       "      <td>8.0</td>\n",
       "      <td>8</td>\n",
       "      <td>6.869089</td>\n",
       "    </tr>\n",
       "  </tbody>\n",
       "</table>\n",
       "</div>"
      ],
      "text/plain": [
       "      tconst  titleType          primaryTitle         originalTitle  isAdult  \\\n",
       "0  tt0043745      short             Lion Down             Lion Down        0   \n",
       "1  tt0167491      video     Wicked Covergirls     Wicked Covergirls        1   \n",
       "2  tt6574096  tvEpisode  Shadow Play - Part 2  Shadow Play - Part 2        0   \n",
       "5  tt2262289      movie               The Pin               The Pin        0   \n",
       "6  tt0874027  tvEpisode         Episode #32.9         Episode #32.9        0   \n",
       "\n",
       "   startYear  endYear  runtimeMinutes                          genres  \\\n",
       "0     1951.0      NaN             7.0     [Animation, Comedy, Family]   \n",
       "1     1998.0      NaN            85.0                              []   \n",
       "2     2017.0      NaN            22.0  [Adventure, Animation, Comedy]   \n",
       "5     2013.0      NaN            85.0                              []   \n",
       "6     2006.0      NaN            29.0       [Comedy, Game-Show, News]   \n",
       "\n",
       "   averageRating  numVotes     score  \n",
       "0            7.1       459  7.009992  \n",
       "1            5.7         7  6.796077  \n",
       "2            8.5       240  7.684380  \n",
       "5            7.7        27  6.921384  \n",
       "6            8.0         8  6.869089  "
      ]
     },
     "execution_count": 58,
     "metadata": {},
     "output_type": "execute_result"
    }
   ],
   "source": [
    "#melakukan pengecekan dataframe\n",
    "movie_rating_df.head()"
   ]
  },
  {
   "cell_type": "markdown",
   "id": "c295ab8d-68c0-4508-a1d6-3e6c06a0cb8e",
   "metadata": {},
   "source": [
    "### Pertanyaan 4: Bagaimana cara membuat simple recommender system?"
   ]
  },
  {
   "cell_type": "code",
   "execution_count": 59,
   "id": "e0861858-0629-4777-8e5b-ba49ce70c66c",
   "metadata": {},
   "outputs": [],
   "source": [
    "def simple_recommender(df, top=100):\n",
    "    df = df.loc[df['numVotes'] >= m]\n",
    "    df = df.sort_values(by='score', ascending=False ) #urutkan dari nilai tertinggi ke terendah\n",
    "    \n",
    "    #Ambil data 100 teratas\n",
    "    df = df[:top]\n",
    "    return df"
   ]
  },
  {
   "cell_type": "code",
   "execution_count": 60,
   "id": "7d217ff4-1b21-4866-8913-18c6b173487d",
   "metadata": {},
   "outputs": [
    {
     "data": {
      "text/html": [
       "<div>\n",
       "<style scoped>\n",
       "    .dataframe tbody tr th:only-of-type {\n",
       "        vertical-align: middle;\n",
       "    }\n",
       "\n",
       "    .dataframe tbody tr th {\n",
       "        vertical-align: top;\n",
       "    }\n",
       "\n",
       "    .dataframe thead th {\n",
       "        text-align: right;\n",
       "    }\n",
       "</style>\n",
       "<table border=\"1\" class=\"dataframe\">\n",
       "  <thead>\n",
       "    <tr style=\"text-align: right;\">\n",
       "      <th></th>\n",
       "      <th>tconst</th>\n",
       "      <th>titleType</th>\n",
       "      <th>primaryTitle</th>\n",
       "      <th>originalTitle</th>\n",
       "      <th>isAdult</th>\n",
       "      <th>startYear</th>\n",
       "      <th>endYear</th>\n",
       "      <th>runtimeMinutes</th>\n",
       "      <th>genres</th>\n",
       "      <th>averageRating</th>\n",
       "      <th>numVotes</th>\n",
       "      <th>score</th>\n",
       "    </tr>\n",
       "  </thead>\n",
       "  <tbody>\n",
       "    <tr>\n",
       "      <th>68</th>\n",
       "      <td>tt4110822</td>\n",
       "      <td>tvEpisode</td>\n",
       "      <td>S.O.S. Part 2</td>\n",
       "      <td>S.O.S. Part 2</td>\n",
       "      <td>0</td>\n",
       "      <td>2015.0</td>\n",
       "      <td>NaN</td>\n",
       "      <td>43.0</td>\n",
       "      <td>[Action, Adventure, Drama]</td>\n",
       "      <td>9.4</td>\n",
       "      <td>3820</td>\n",
       "      <td>9.254624</td>\n",
       "    </tr>\n",
       "    <tr>\n",
       "      <th>236</th>\n",
       "      <td>tt2200252</td>\n",
       "      <td>video</td>\n",
       "      <td>Attack of the Clones Review</td>\n",
       "      <td>Attack of the Clones Review</td>\n",
       "      <td>0</td>\n",
       "      <td>2010.0</td>\n",
       "      <td>NaN</td>\n",
       "      <td>86.0</td>\n",
       "      <td>[]</td>\n",
       "      <td>9.3</td>\n",
       "      <td>1411</td>\n",
       "      <td>8.955045</td>\n",
       "    </tr>\n",
       "    <tr>\n",
       "      <th>1181</th>\n",
       "      <td>tt7697962</td>\n",
       "      <td>tvEpisode</td>\n",
       "      <td>Chapter Seventeen: The Missionaries</td>\n",
       "      <td>Chapter Seventeen: The Missionaries</td>\n",
       "      <td>0</td>\n",
       "      <td>2019.0</td>\n",
       "      <td>NaN</td>\n",
       "      <td>54.0</td>\n",
       "      <td>[Drama, Fantasy, Horror]</td>\n",
       "      <td>9.2</td>\n",
       "      <td>1536</td>\n",
       "      <td>8.892450</td>\n",
       "    </tr>\n",
       "    <tr>\n",
       "      <th>326</th>\n",
       "      <td>tt7124590</td>\n",
       "      <td>tvEpisode</td>\n",
       "      <td>Chapter Thirty-Four: Judgment Night</td>\n",
       "      <td>Chapter Thirty-Four: Judgment Night</td>\n",
       "      <td>0</td>\n",
       "      <td>2018.0</td>\n",
       "      <td>NaN</td>\n",
       "      <td>42.0</td>\n",
       "      <td>[Crime, Drama, Mystery]</td>\n",
       "      <td>9.1</td>\n",
       "      <td>1859</td>\n",
       "      <td>8.850993</td>\n",
       "    </tr>\n",
       "    <tr>\n",
       "      <th>1045</th>\n",
       "      <td>tt0533506</td>\n",
       "      <td>tvEpisode</td>\n",
       "      <td>The Prom</td>\n",
       "      <td>The Prom</td>\n",
       "      <td>0</td>\n",
       "      <td>1999.0</td>\n",
       "      <td>NaN</td>\n",
       "      <td>60.0</td>\n",
       "      <td>[Action, Drama, Fantasy]</td>\n",
       "      <td>8.9</td>\n",
       "      <td>2740</td>\n",
       "      <td>8.740308</td>\n",
       "    </tr>\n",
       "  </tbody>\n",
       "</table>\n",
       "</div>"
      ],
      "text/plain": [
       "         tconst  titleType                         primaryTitle  \\\n",
       "68    tt4110822  tvEpisode                        S.O.S. Part 2   \n",
       "236   tt2200252      video          Attack of the Clones Review   \n",
       "1181  tt7697962  tvEpisode  Chapter Seventeen: The Missionaries   \n",
       "326   tt7124590  tvEpisode  Chapter Thirty-Four: Judgment Night   \n",
       "1045  tt0533506  tvEpisode                             The Prom   \n",
       "\n",
       "                            originalTitle  isAdult  startYear  endYear  \\\n",
       "68                          S.O.S. Part 2        0     2015.0      NaN   \n",
       "236           Attack of the Clones Review        0     2010.0      NaN   \n",
       "1181  Chapter Seventeen: The Missionaries        0     2019.0      NaN   \n",
       "326   Chapter Thirty-Four: Judgment Night        0     2018.0      NaN   \n",
       "1045                             The Prom        0     1999.0      NaN   \n",
       "\n",
       "      runtimeMinutes                      genres  averageRating  numVotes  \\\n",
       "68              43.0  [Action, Adventure, Drama]            9.4      3820   \n",
       "236             86.0                          []            9.3      1411   \n",
       "1181            54.0    [Drama, Fantasy, Horror]            9.2      1536   \n",
       "326             42.0     [Crime, Drama, Mystery]            9.1      1859   \n",
       "1045            60.0    [Action, Drama, Fantasy]            8.9      2740   \n",
       "\n",
       "         score  \n",
       "68    9.254624  \n",
       "236   8.955045  \n",
       "1181  8.892450  \n",
       "326   8.850993  \n",
       "1045  8.740308  "
      ]
     },
     "execution_count": 60,
     "metadata": {},
     "output_type": "execute_result"
    }
   ],
   "source": [
    "#Ambil data 25 teratas     \n",
    "simple_recommender(movie_rating_df, top=25).head()"
   ]
  },
  {
   "cell_type": "markdown",
   "id": "223caba4-7a01-40ae-ad6e-ab70701154f5",
   "metadata": {},
   "source": [
    "### Pertanyaan 5: Bagaimana cara membuat simple recommender system dengan user preferences?"
   ]
  },
  {
   "cell_type": "code",
   "execution_count": 62,
   "id": "8be487a7-de78-4594-b6cf-785c922850de",
   "metadata": {},
   "outputs": [
    {
     "data": {
      "text/html": [
       "<div>\n",
       "<style scoped>\n",
       "    .dataframe tbody tr th:only-of-type {\n",
       "        vertical-align: middle;\n",
       "    }\n",
       "\n",
       "    .dataframe tbody tr th {\n",
       "        vertical-align: top;\n",
       "    }\n",
       "\n",
       "    .dataframe thead th {\n",
       "        text-align: right;\n",
       "    }\n",
       "</style>\n",
       "<table border=\"1\" class=\"dataframe\">\n",
       "  <thead>\n",
       "    <tr style=\"text-align: right;\">\n",
       "      <th></th>\n",
       "      <th>tconst</th>\n",
       "      <th>titleType</th>\n",
       "      <th>primaryTitle</th>\n",
       "      <th>originalTitle</th>\n",
       "      <th>isAdult</th>\n",
       "      <th>startYear</th>\n",
       "      <th>endYear</th>\n",
       "      <th>runtimeMinutes</th>\n",
       "      <th>genres</th>\n",
       "      <th>averageRating</th>\n",
       "      <th>numVotes</th>\n",
       "      <th>score</th>\n",
       "    </tr>\n",
       "  </thead>\n",
       "  <tbody>\n",
       "    <tr>\n",
       "      <th>68</th>\n",
       "      <td>tt4110822</td>\n",
       "      <td>tvEpisode</td>\n",
       "      <td>S.O.S. Part 2</td>\n",
       "      <td>S.O.S. Part 2</td>\n",
       "      <td>0</td>\n",
       "      <td>2015.0</td>\n",
       "      <td>NaN</td>\n",
       "      <td>43.0</td>\n",
       "      <td>[Action, Adventure, Drama]</td>\n",
       "      <td>9.4</td>\n",
       "      <td>3820</td>\n",
       "      <td>9.254624</td>\n",
       "    </tr>\n",
       "    <tr>\n",
       "      <th>1181</th>\n",
       "      <td>tt7697962</td>\n",
       "      <td>tvEpisode</td>\n",
       "      <td>Chapter Seventeen: The Missionaries</td>\n",
       "      <td>Chapter Seventeen: The Missionaries</td>\n",
       "      <td>0</td>\n",
       "      <td>2019.0</td>\n",
       "      <td>NaN</td>\n",
       "      <td>54.0</td>\n",
       "      <td>[Drama, Fantasy, Horror]</td>\n",
       "      <td>9.2</td>\n",
       "      <td>1536</td>\n",
       "      <td>8.892450</td>\n",
       "    </tr>\n",
       "    <tr>\n",
       "      <th>326</th>\n",
       "      <td>tt7124590</td>\n",
       "      <td>tvEpisode</td>\n",
       "      <td>Chapter Thirty-Four: Judgment Night</td>\n",
       "      <td>Chapter Thirty-Four: Judgment Night</td>\n",
       "      <td>0</td>\n",
       "      <td>2018.0</td>\n",
       "      <td>NaN</td>\n",
       "      <td>42.0</td>\n",
       "      <td>[Crime, Drama, Mystery]</td>\n",
       "      <td>9.1</td>\n",
       "      <td>1859</td>\n",
       "      <td>8.850993</td>\n",
       "    </tr>\n",
       "    <tr>\n",
       "      <th>71</th>\n",
       "      <td>tt8399426</td>\n",
       "      <td>tvEpisode</td>\n",
       "      <td>Savages</td>\n",
       "      <td>Savages</td>\n",
       "      <td>0</td>\n",
       "      <td>2018.0</td>\n",
       "      <td>NaN</td>\n",
       "      <td>58.0</td>\n",
       "      <td>[Drama, Fantasy, Romance]</td>\n",
       "      <td>9.0</td>\n",
       "      <td>1428</td>\n",
       "      <td>8.700045</td>\n",
       "    </tr>\n",
       "    <tr>\n",
       "      <th>1234</th>\n",
       "      <td>tt2843830</td>\n",
       "      <td>tvEpisode</td>\n",
       "      <td>VIII.</td>\n",
       "      <td>VIII.</td>\n",
       "      <td>0</td>\n",
       "      <td>2014.0</td>\n",
       "      <td>NaN</td>\n",
       "      <td>57.0</td>\n",
       "      <td>[Adventure, Drama]</td>\n",
       "      <td>8.9</td>\n",
       "      <td>1753</td>\n",
       "      <td>8.660784</td>\n",
       "    </tr>\n",
       "  </tbody>\n",
       "</table>\n",
       "</div>"
      ],
      "text/plain": [
       "         tconst  titleType                         primaryTitle  \\\n",
       "68    tt4110822  tvEpisode                        S.O.S. Part 2   \n",
       "1181  tt7697962  tvEpisode  Chapter Seventeen: The Missionaries   \n",
       "326   tt7124590  tvEpisode  Chapter Thirty-Four: Judgment Night   \n",
       "71    tt8399426  tvEpisode                              Savages   \n",
       "1234  tt2843830  tvEpisode                                VIII.   \n",
       "\n",
       "                            originalTitle  isAdult  startYear  endYear  \\\n",
       "68                          S.O.S. Part 2        0     2015.0      NaN   \n",
       "1181  Chapter Seventeen: The Missionaries        0     2019.0      NaN   \n",
       "326   Chapter Thirty-Four: Judgment Night        0     2018.0      NaN   \n",
       "71                                Savages        0     2018.0      NaN   \n",
       "1234                                VIII.        0     2014.0      NaN   \n",
       "\n",
       "      runtimeMinutes                      genres  averageRating  numVotes  \\\n",
       "68              43.0  [Action, Adventure, Drama]            9.4      3820   \n",
       "1181            54.0    [Drama, Fantasy, Horror]            9.2      1536   \n",
       "326             42.0     [Crime, Drama, Mystery]            9.1      1859   \n",
       "71              58.0   [Drama, Fantasy, Romance]            9.0      1428   \n",
       "1234            57.0          [Adventure, Drama]            8.9      1753   \n",
       "\n",
       "         score  \n",
       "68    9.254624  \n",
       "1181  8.892450  \n",
       "326   8.850993  \n",
       "71    8.700045  \n",
       "1234  8.660784  "
      ]
     },
     "execution_count": 62,
     "metadata": {},
     "output_type": "execute_result"
    }
   ],
   "source": [
    "df = movie_rating_df.copy()\n",
    "\n",
    "def user_prefer_recommender(df, ask_adult, ask_start_year, ask_genre, top=100):\n",
    "    #ask_adult = yes/no\n",
    "    if ask_adult.lower() == 'yes':\n",
    "        df = df.loc[df['isAdult'] == 1]\n",
    "    elif ask_adult.lower() == 'no':\n",
    "        df = df.loc[df['isAdult'] == 0]\n",
    "\n",
    "    #ask_start_year = numeric\n",
    "    df = df.loc[df['startYear'] >= int(ask_start_year)]\n",
    "\n",
    "    #ask_genre = 'all' atau yang lain\n",
    "    if ask_genre.lower() == 'all':\n",
    "        df = df\n",
    "    else:\n",
    "        def filter_genre(x):\n",
    "            if ask_genre.lower() in str(x).lower():\n",
    "                return True\n",
    "            else:\n",
    "                return False\n",
    "        df = df.loc[df['genres'].apply(lambda x: filter_genre(x))]\n",
    "\n",
    "    df = df.loc[df['numVotes'] >= m]  #Mengambil film dengan numVotes yang lebih besar atau sama dengan nilai m \n",
    "    df = df.sort_values(by='score', ascending=False)\n",
    "    \n",
    "    #jika kamu hanya ingin mengambil 100 teratas\n",
    "    df = df[:top]\n",
    "    return df\n",
    "\n",
    "user_prefer_recommender(df,\n",
    "                       ask_adult = 'no',\n",
    "                        ask_start_year = 2000,\n",
    "                       ask_genre = 'drama'\n",
    "                       ).head()"
   ]
  }
 ],
 "metadata": {
  "kernelspec": {
   "display_name": "Python 3 (ipykernel)",
   "language": "python",
   "name": "python3"
  },
  "language_info": {
   "codemirror_mode": {
    "name": "ipython",
    "version": 3
   },
   "file_extension": ".py",
   "mimetype": "text/x-python",
   "name": "python",
   "nbconvert_exporter": "python",
   "pygments_lexer": "ipython3",
   "version": "3.9.12"
  }
 },
 "nbformat": 4,
 "nbformat_minor": 5
}
